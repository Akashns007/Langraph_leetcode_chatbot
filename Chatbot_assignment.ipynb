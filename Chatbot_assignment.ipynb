{
  "nbformat": 4,
  "nbformat_minor": 0,
  "metadata": {
    "colab": {
      "provenance": []
    },
    "kernelspec": {
      "name": "python3",
      "display_name": "Python 3"
    },
    "language_info": {
      "name": "python"
    }
  },
  "cells": [
    {
      "cell_type": "code",
      "source": [
        "!pip install python-dotenv\n"
      ],
      "metadata": {
        "colab": {
          "base_uri": "https://localhost:8080/"
        },
        "collapsed": true,
        "id": "-KYRjb-SARz4",
        "outputId": "acedb3d5-4378-4477-96af-e28e3876b33d"
      },
      "execution_count": 2,
      "outputs": [
        {
          "output_type": "stream",
          "name": "stdout",
          "text": [
            "Collecting python-dotenv\n",
            "  Downloading python_dotenv-1.1.1-py3-none-any.whl.metadata (24 kB)\n",
            "Downloading python_dotenv-1.1.1-py3-none-any.whl (20 kB)\n",
            "Installing collected packages: python-dotenv\n",
            "Successfully installed python-dotenv-1.1.1\n"
          ]
        }
      ]
    },
    {
      "cell_type": "code",
      "source": [
        "from typing import Annotated\n",
        "\n",
        "from langchain.chat_models import init_chat_model\n",
        "from typing_extensions import TypedDict\n",
        "from langchain.prompts import ChatPromptTemplate\n",
        "from langgraph.graph import StateGraph, START, END\n",
        "from langgraph.graph.message import add_messages\n",
        "from dotenv import load_dotenv\n",
        "\n",
        "load_dotenv()\n",
        "#conv history\n",
        "class ReviewState(TypedDict):\n",
        "    messages: Annotated[list, add_messages]\n",
        "    question: str\n",
        "    user_solution: str\n",
        "    language: str\n",
        "    optimized_solution: str\n",
        "    feedback: str\n",
        "    detailed_explanation: str\n",
        "    user_reply: bool\n",
        "\n",
        "\n",
        "graph_builder = StateGraph(ReviewState)"
      ],
      "metadata": {
        "id": "kVJJ11gs9bkT"
      },
      "execution_count": 3,
      "outputs": []
    },
    {
      "cell_type": "code",
      "source": [
        "llm = init_chat_model(\"google_genai:gemini-2.0-flash-lite\")"
      ],
      "metadata": {
        "id": "stdI5rsjCk9F"
      },
      "execution_count": 4,
      "outputs": []
    },
    {
      "cell_type": "code",
      "source": [
        "# 1. Router Agent\n",
        "\n",
        "def router_agent(state: ReviewState):\n",
        "    prompt = ChatPromptTemplate.from_template(\n",
        "        \"\"\"You are a language detection assistant.\n",
        "        Analyze the following user solution:\n",
        "        {user_solution}\n",
        "\n",
        "        Determine which programming language is used: Python or C++.\n",
        "        If you cannot detect, return \"Unknown\".\n",
        "        **Just output one word**: Python, C++, or Unknown.\"\"\"\n",
        "    )\n",
        "    chain_input = {\"user_solution\": state[\"user_solution\"]}\n",
        "    language = llm.invoke(prompt.format(**chain_input)).content.strip().lower()\n",
        "\n",
        "    state[\"language\"] = language\n",
        "    print(\"the language is: \",language)\n",
        "    state[\"messages\"].append({\"role\": \"assistant\", \"content\": f\"Detected language: {language}\"})\n",
        "\n",
        "    if \"python\" in language:\n",
        "        return \"python_edge\"\n",
        "    elif language in (\"c++\", \"cpp\", \"c plus plus\"):\n",
        "        return \"cpp_edge\"\n",
        "    else:\n",
        "        print(f\"Language not detected! defaulting to python\")\n",
        "        return \"python_edge\""
      ],
      "metadata": {
        "id": "Dw92YkLARZoS"
      },
      "execution_count": 5,
      "outputs": []
    },
    {
      "cell_type": "code",
      "source": [
        "# 2. Optimizer agents (python and c++)\n",
        "\n",
        "def python_Agent(state:ReviewState) -> ReviewState:\n",
        "    \"\"\"\n",
        "    Takes the user question and python code and provides the most optimised solution for that question \\\n",
        "    Only *Python* code is taken as input and optimized python code is put out as output. \\\n",
        "\n",
        "\n",
        "    \"\"\"\n",
        "    print(\"using the python agent\\n\")\n",
        "    prompt = ChatPromptTemplate.from_template(\n",
        "        \"\"\" Given this problem and user solution:\\n{question}\\nUser Solution:\\n {user_solution} \\n \\\n",
        "            You specialize in writing most optimized python code for the given problem. \\\n",
        "            Write the Python solution with most optimized time and space complexity.\\\n",
        "            **must not return any kind of explanation**\\\n",
        "            only python code must be outputted.\n",
        "            \"\"\"\n",
        "    )\n",
        "    chain_input = {\"question\": state[\"question\"], \"user_solution\": state[\"user_solution\"]}\n",
        "    optimized_code = llm.invoke(prompt.format(**chain_input)).content\n",
        "\n",
        "    state[\"optimized_solution\"] = optimized_code\n",
        "    state[\"messages\"].append({\"role\": \"assistant\", \"content\": optimized_code})\n",
        "    return state\n",
        "\n",
        "\n",
        "def cpp_agent(state:ReviewState) -> ReviewState:\n",
        "    \"\"\"\n",
        "    Takes the user question and c++ code and provides the most optimised solution for that question \\\n",
        "    Only *C++* code is taken as input and optimized c++ code is put out as output. \\\n",
        "\n",
        "    \"\"\"\n",
        "    print(\"using the c++ agent\\n\")\n",
        "    prompt = ChatPromptTemplate.from_template(\n",
        "        \"\"\"\n",
        "        Given this problem and user solution:\\n{question}\\nUser Solution:\\n {user_solution} \\n \\\n",
        "        You specialize in writing most optimized c++ code for the given problem. \\\n",
        "        Write the c++ solution with most optimized time and space complexity.\n",
        "        **must not return any kind of explanation**\\\n",
        "          only c++ code must be outputted.\n",
        "\n",
        "        \"\"\"\n",
        "    )\n",
        "    Chain_input = {\"question\": state[\"question\"], \"user_solution\": state[\"user_solution\"]}\n",
        "    optimized_code = llm.invoke(prompt.format(**Chain_input)).content\n",
        "\n",
        "    state[\"optimized_solution\"] = optimized_code\n",
        "    state[\"messages\"].append({\"role\": \"assistant\", \"content\": optimized_code})\n",
        "    return state\n",
        "\n",
        "\n"
      ],
      "metadata": {
        "id": "ohdeUfvWReoM"
      },
      "execution_count": 6,
      "outputs": []
    },
    {
      "cell_type": "code",
      "source": [
        "# 3. Review Agent\n",
        "\n",
        "def review_agent(state: ReviewState):\n",
        "    \"\"\"\n",
        "    Compares user_solution with optimized_solution,\n",
        "    provides short feedback, and checks user satisfaction.\n",
        "    \"\"\"\n",
        "    print(\"using the review agent \\n\")\n",
        "    prompt = ChatPromptTemplate.from_template(\n",
        "        \"\"\"\n",
        "        You are a code reviewer.\n",
        "        Compare the user solution and the optimized solution.\n",
        "\n",
        "        User Solution:\n",
        "        {user_solution}\n",
        "\n",
        "        Optimized Solution:\n",
        "        {optimized_solution}\n",
        "\n",
        "        Provide a (1-2)lines exlanation :\n",
        "        - output the full code of both user and optimized solution.\n",
        "        - provide key inefficiencies in the user solution and (time/space) complexities.\n",
        "        \"\"\"\n",
        "    )\n",
        "    chain_input = {\n",
        "        \"user_solution\": state[\"user_solution\"],\n",
        "        \"optimized_solution\": state[\"optimized_solution\"],\n",
        "    }\n",
        "\n",
        "    feedback = llm.invoke(prompt.format(**chain_input)).content\n",
        "    print(feedback)\n",
        "    state[\"feedback\"] = feedback\n",
        "    state[\"messages\"].append({\"role\": \"assistant\", \"content\": feedback})\n",
        "\n",
        "    # Human in the loop (user feedback) wither yes or not\n",
        "    user_reply = input(\"\\nDo want more explanation (yes/no): \").strip().lower()\n",
        "    state[\"messages\"].append({\"role\": \"user\", \"content\": user_reply})\n",
        "\n",
        "    # Step 3: Route based on user satisfaction\n",
        "    if user_reply.startswith(\"y\"):\n",
        "        return \"explainer_edge\"\n",
        "    else:\n",
        "        return \"end_edge\"\n",
        "\n"
      ],
      "metadata": {
        "id": "xpMkShp_R2eX"
      },
      "execution_count": 7,
      "outputs": []
    },
    {
      "cell_type": "code",
      "source": [
        "# 4. Explainer agent\n",
        "\n",
        "def explainer_agent(state: ReviewState):\n",
        "    \"\"\"\n",
        "    Provide a detailed explanation comparing user_solution and optimized_solution.\n",
        "    \"\"\"\n",
        "    print(\"using explainer agent\")\n",
        "    prompt = ChatPromptTemplate.from_template(\n",
        "        \"\"\"\n",
        "        You are a detailed explainer.\n",
        "        Compare the user solution and optimized solution for the given question:\n",
        "        {question}\n",
        "\n",
        "        User Solution:\n",
        "        {user_solution}\n",
        "\n",
        "        Optimized Solution:\n",
        "        {optimized_solution}\n",
        "\n",
        "        Provide a detailed explanation:\n",
        "        - Mistakes or inefficiencies in user's code.\n",
        "        - How the optimized solution improves performance.\n",
        "        - Any coding best practices that can help the user.\n",
        "        - explain and provide comparision of the complexities\n",
        "        \"\"\"\n",
        "    )\n",
        "\n",
        "    chain_input = {\n",
        "        \"question\": state[\"question\"],\n",
        "        \"user_solution\": state[\"user_solution\"],\n",
        "        \"optimized_solution\": state[\"optimized_solution\"],\n",
        "    }\n",
        "\n",
        "    explanation = llm.invoke(prompt.format(**chain_input)).content\n",
        "    state[\"detailed_explanation\"] = explanation\n",
        "    state[\"messages\"].append({\"role\": \"assistant\", \"content\": explanation})\n",
        "    return state\n",
        "\n",
        "\n"
      ],
      "metadata": {
        "id": "SVl4dww0StiE"
      },
      "execution_count": 8,
      "outputs": []
    },
    {
      "cell_type": "code",
      "source": [
        "# add all the nodes and edges\n",
        "\n",
        "graph_builder.add_node(\"router_node\", lambda state:state)\n",
        "graph_builder.add_node(\"python_node\", python_Agent)\n",
        "graph_builder.add_node(\"cpp_node\", cpp_agent)\n",
        "graph_builder.add_node(\"review_node\", lambda state:state)\n",
        "graph_builder.add_node(\"explainer_node\", explainer_agent)\n",
        "\n",
        "graph_builder.add_edge(START, \"router_node\")\n",
        "graph_builder.add_conditional_edges(\n",
        "    \"router_node\",\n",
        "    router_agent,\n",
        "    {\n",
        "        \"python_edge\": \"python_node\",\n",
        "        \"cpp_edge\": \"cpp_node\",\n",
        "    },\n",
        ")\n",
        "graph_builder.add_edge(\"python_node\", \"review_node\")\n",
        "graph_builder.add_edge(\"cpp_node\", \"review_node\")\n",
        "graph_builder.add_conditional_edges(\n",
        "    \"review_node\",\n",
        "    review_agent,\n",
        "    {\n",
        "        \"end_edge\": END,\n",
        "        \"explainer_edge\": \"explainer_node\",\n",
        "    }\n",
        ")\n",
        "graph_builder.add_edge(\"explainer_node\", END)"
      ],
      "metadata": {
        "colab": {
          "base_uri": "https://localhost:8080/"
        },
        "id": "0dpjX2Y8qI-N",
        "outputId": "9c042eca-4477-4da6-f997-c8a8d29dd9b7"
      },
      "execution_count": 9,
      "outputs": [
        {
          "output_type": "execute_result",
          "data": {
            "text/plain": [
              "<langgraph.graph.state.StateGraph at 0x7e9e8dc92ad0>"
            ]
          },
          "metadata": {},
          "execution_count": 9
        }
      ]
    },
    {
      "cell_type": "code",
      "source": [
        "graph = graph_builder.compile()"
      ],
      "metadata": {
        "id": "QbuXMONUL2K3"
      },
      "execution_count": 10,
      "outputs": []
    },
    {
      "cell_type": "code",
      "source": [
        "from IPython.display import Image, display\n",
        "\n",
        "try:\n",
        "    display(Image(graph.get_graph().draw_mermaid_png()))\n",
        "except Exception:\n",
        "    # This requires some extra dependencies and is optional\n",
        "    pass"
      ],
      "metadata": {
        "colab": {
          "base_uri": "https://localhost:8080/",
          "height": 596
        },
        "id": "9Xdf-QXo_PYU",
        "outputId": "f29821e5-e16e-46e9-e407-d5a3fa9c54af"
      },
      "execution_count": 11,
      "outputs": [
        {
          "output_type": "display_data",
          "data": {
            "image/png": "[encoded data removed]",
            "text/plain": [
              "<IPython.core.display.Image object>"
            ]
          },
          "metadata": {}
        }
      ]
    },
    {
      "cell_type": "code",
      "source": [
        "def stream_graph_updates(question: str, user_solution: str):\n",
        "    \"\"\"\n",
        "    Stream updates from the graph for a single user query.\n",
        "    Passes both question and user_solution into the state.\n",
        "    \"\"\"\n",
        "    initial_state = {\n",
        "        \"question\": question,\n",
        "        \"user_solution\": user_solution,\n",
        "        \"messages\": [\n",
        "            {\"role\": \"user\", \"content\": f\"Question: {question}\"},\n",
        "            {\"role\": \"user\", \"content\": f\"User Solution: {user_solution}\"}\n",
        "        ]\n",
        "    }\n",
        "\n",
        "    # Stream through LangGraph\n",
        "    for event in graph.stream(initial_state):\n",
        "        for value in event.values():\n",
        "            last_msg = value[\"messages\"][-1]\n",
        "            # Check if the last message is a dict or LangChain message\n",
        "            if isinstance(last_msg, dict):\n",
        "                print(\"Assistant:\", last_msg.get(\"content\", \"\"))\n",
        "            else:\n",
        "                print(\"Assistant:\", last_msg.content)\n",
        "\n",
        "\n",
        "\n",
        "def start_chat():\n",
        "    \"\"\"\n",
        "    Starts the interactive chat loop.\n",
        "    Each iteration takes question + user_solution from user.\n",
        "    \"\"\"\n",
        "    print(\"Welcome to the Code Review Assistant (type 'quit' to exit).\")\n",
        "\n",
        "    while True:\n",
        "        # Get Question Input\n",
        "        question = input(\"\\nEnter the LeetCode Question (or 'quit' to exit): \")\n",
        "        if question.strip().lower() in [\"quit\", \"exit\", \"q\"]:\n",
        "            print(\"Goodbye!\")\n",
        "            break\n",
        "\n",
        "        # Get User Solution Input\n",
        "        user_solution = input(\"Enter your Solution Code (or 'quit' to exit): \")\n",
        "        if user_solution.strip().lower() in [\"quit\", \"exit\", \"q\"]:\n",
        "            print(\"Goodbye!\")\n",
        "            break\n",
        "\n",
        "        # Run through the graph\n",
        "        stream_graph_updates(question, user_solution)\n",
        "\n",
        "\n",
        "if __name__ == \"__main__\":\n",
        "    start_chat()\n"
      ],
      "metadata": {
        "colab": {
          "base_uri": "https://localhost:8080/"
        },
        "id": "I6tVJvzo_Qpe",
        "outputId": "4d3b375f-605e-4547-9eac-e8ba16d4157e"
      },
      "execution_count": 12,
      "outputs": [
        {
          "output_type": "stream",
          "name": "stdout",
          "text": [
            "Welcome to the Code Review Assistant (type 'quit' to exit).\n",
            "\n",
            "Enter the LeetCode Question (or 'quit' to exit): Given an array of integers nums and an integer target, return indices of the two numbers such that they add up to target.\n",
            "Enter your Solution Code (or 'quit' to exit): def twoSum(nums, target): for i in range(len(nums)): for j in range(i + 1, len(nums)): if nums[i] + nums[j] == target: return [i, j]\n",
            "the language is:  python\n",
            "Assistant: User Solution: def twoSum(nums, target): for i in range(len(nums)): for j in range(i + 1, len(nums)): if nums[i] + nums[j] == target: return [i, j]\n",
            "using the python agent\n",
            "\n",
            "Assistant: ```python\n",
            "def twoSum(nums, target):\n",
            "    nums_map = {}\n",
            "    for i, num in enumerate(nums):\n",
            "        complement = target - num\n",
            "        if complement in nums_map:\n",
            "            return [nums_map[complement], i]\n",
            "        nums_map[num] = i\n",
            "```\n",
            "using the review agent \n",
            "\n",
            "```python\n",
            "def twoSum(nums, target):\n",
            "    for i in range(len(nums)):\n",
            "        for j in range(i + 1, len(nums)):\n",
            "            if nums[i] + nums[j] == target:\n",
            "                return [i, j]\n",
            "```\n",
            "\n",
            "```python\n",
            "def twoSum(nums, target):\n",
            "    nums_map = {}\n",
            "    for i, num in enumerate(nums):\n",
            "        complement = target - num\n",
            "        if complement in nums_map:\n",
            "            return [nums_map[complement], i]\n",
            "        nums_map[num] = i\n",
            "```\n",
            "\n",
            "The user solution has nested loops leading to O(n^2) time complexity, while the optimized solution uses a hash map to achieve O(n) time complexity by trading space for time.  The user solution's space complexity is O(1), and the optimized solution's space complexity is O(n).\n",
            "\n",
            "Do want more explanation (yes/no): yes\n",
            "Assistant: ```python\n",
            "def twoSum(nums, target):\n",
            "    nums_map = {}\n",
            "    for i, num in enumerate(nums):\n",
            "        complement = target - num\n",
            "        if complement in nums_map:\n",
            "            return [nums_map[complement], i]\n",
            "        nums_map[num] = i\n",
            "```\n",
            "using explainer agent\n",
            "Assistant: Okay, let's break down the user's solution, the optimized solution, and the key differences between them.\n",
            "\n",
            "**User's Solution:**\n",
            "\n",
            "```python\n",
            "def twoSum(nums, target):\n",
            "    for i in range(len(nums)):\n",
            "        for j in range(i + 1, len(nums)):\n",
            "            if nums[i] + nums[j] == target:\n",
            "                return [i, j]\n",
            "```\n",
            "\n",
            "*   **Mistakes and Inefficiencies:**\n",
            "\n",
            "    *   **Inefficiency: Nested Loops (O(n^2) time complexity).** The user's code uses nested `for` loops. The outer loop iterates through each element of the `nums` array.  For each element in the outer loop, the inner loop iterates through the remaining elements. This means for an array of size `n`, the inner loop runs `n-1` times for the first element, `n-2` times for the second, and so on. This results in a quadratic time complexity (O(n^2)). This becomes very slow as the input array `nums` gets large.\n",
            "    *   **No Early Exit (Potential for Unnecessary Comparisons).** While the code *does* return early once a solution is found, it still has to perform a significant number of comparisons before a solution is found, especially if the target sum is found towards the end of the array, or not at all.\n",
            "\n",
            "**Optimized Solution:**\n",
            "\n",
            "```python\n",
            "def twoSum(nums, target):\n",
            "    nums_map = {}\n",
            "    for i, num in enumerate(nums):\n",
            "        complement = target - num\n",
            "        if complement in nums_map:\n",
            "            return [nums_map[complement], i]\n",
            "        nums_map[num] = i\n",
            "```\n",
            "\n",
            "*   **How the Optimized Solution Improves Performance:**\n",
            "\n",
            "    *   **Hash Map (Dictionary) for Efficient Lookup (O(n) time complexity).** The optimized solution utilizes a dictionary (called `nums_map` in this case) to store the numbers encountered so far and their indices. This is the key to the performance improvement.\n",
            "    *   **Single Pass:** The code iterates through the `nums` array only once.\n",
            "    *   **Constant-Time Lookup:** For each number `num` in the array, it calculates the `complement` needed to reach the `target`. It then checks if the `complement` is already present as a key in the `nums_map` dictionary.  Dictionary lookups (using the `in` operator) are, on average, O(1) (constant time).\n",
            "    *   **Early Exit and Efficient Search:** If the `complement` is found in the `nums_map`, the solution is immediately found, and the indices are returned. If not, the current number and its index are added to `nums_map` for future lookups.\n",
            "\n",
            "**Coding Best Practices:**\n",
            "\n",
            "*   **Choosing the Right Data Structure:** The optimized solution demonstrates the importance of selecting appropriate data structures. Using a dictionary (hash map) allows for very fast lookups, significantly improving performance compared to brute-force methods.\n",
            "*   **Time-Space Tradeoff:** The optimized solution uses extra space (the `nums_map` dictionary) to store the numbers and their indices. This is a common time-space tradeoff: using more memory to reduce the execution time.  In this case, the space complexity is O(n) because, in the worst case, we might store all the numbers from `nums` into the dictionary.\n",
            "*   **Readability and Clarity:** Both solutions are relatively clear and easy to understand.  Good variable names (`complement`, `nums_map`) also improve readability.\n",
            "\n",
            "**Complexity Comparison:**\n",
            "\n",
            "| Feature          | User's Solution                      | Optimized Solution                 |\n",
            "| ---------------- | ------------------------------------ | ---------------------------------- |\n",
            "| Time Complexity  | O(n^2)                               | O(n)                               |\n",
            "| Space Complexity | O(1) (constant, no extra space used) | O(n) (for the hash map)            |\n",
            "| Approach         | Brute-force                          | Hash map (dictionary) lookup     |\n",
            "\n",
            "**In Summary:**\n",
            "\n",
            "The user's solution is a straightforward but inefficient approach using nested loops. The optimized solution significantly improves performance by using a hash map (dictionary) to achieve a linear time complexity, making it much more suitable for larger input arrays. The use of a hash map is a common and powerful technique for solving problems that involve searching or looking up values quickly.\n",
            "\n",
            "Enter the LeetCode Question (or 'quit' to exit): quit\n",
            "Goodbye!\n"
          ]
        }
      ]
    },
    {
      "cell_type": "markdown",
      "source": [
        "# Example question\n",
        "Given an array of integers nums and an integer target, return indices of the two numbers such that they add up to target.\n",
        "\n",
        "def twoSum(nums, target):\n",
        "    for i in range(len(nums)):\n",
        "        for j in range(i + 1, len(nums)):\n",
        "            if nums[i] + nums[j] == target:\n",
        "                return [i, j]\n"
      ],
      "metadata": {
        "id": "qgZZ70iINbMH"
      }
    }
  ]
}